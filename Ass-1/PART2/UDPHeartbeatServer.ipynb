{
 "cells": [
  {
   "cell_type": "code",
   "execution_count": 1,
   "metadata": {},
   "outputs": [
    {
     "name": "stdout",
     "output_type": "stream",
     "text": [
      "UDP Heartbeat Server is running...\n",
      "Responded to ('127.0.0.1', 64932) with Seq: 1, Time Difference: 0.003999 seconds\n",
      "Simulating packet loss for message from ('127.0.0.1', 64932)\n",
      "Simulating packet loss for message from ('127.0.0.1', 64932)\n",
      "Simulating packet loss for message from ('127.0.0.1', 64932)\n"
     ]
    }
   ],
   "source": [
    "import random\n",
    "import time\n",
    "from socket import *\n",
    "\n",
    "# Create a UDP socket\n",
    "serverSocket = socket(AF_INET, SOCK_DGRAM)\n",
    "\n",
    "# Bind the socket to port 12000\n",
    "serverSocket.bind(('', 12000))\n",
    "\n",
    "print(\"UDP Heartbeat Server is running...\")\n",
    "\n",
    "while True:\n",
    "    # Generate a random number between 0 and 10\n",
    "    rand = random.randint(0, 10)\n",
    "\n",
    "    # Receive the client packet and the client address\n",
    "    message, address = serverSocket.recvfrom(1024)\n",
    "    receive_time = time.time()\n",
    "\n",
    "    # If rand < 4, simulate packet loss (30% packet loss)\n",
    "    if rand < 4:\n",
    "        print(f\"Simulating packet loss for message from {address}\")\n",
    "        continue\n",
    "\n",
    "    # Extract sequence number and timestamp from the message\n",
    "    message_parts = message.decode().split()\n",
    "    sequence_number = message_parts[1]\n",
    "    sent_time = float(message_parts[2])\n",
    "\n",
    "    # Calculate the time difference (latency)\n",
    "    time_difference = receive_time - sent_time\n",
    "\n",
    "    # Create response message with the sequence number and time difference\n",
    "    response_message = f\"Seq: {sequence_number}, Time Difference: {time_difference:.6f} seconds\"\n",
    "\n",
    "    # Send the response back to the client\n",
    "    serverSocket.sendto(response_message.encode(), address)\n",
    "    print(f\"Responded to {address} with {response_message}\")"
   ]
  }
 ],
 "metadata": {
  "kernelspec": {
   "display_name": "Python 3",
   "language": "python",
   "name": "python3"
  },
  "language_info": {
   "codemirror_mode": {
    "name": "ipython",
    "version": 3
   },
   "file_extension": ".py",
   "mimetype": "text/x-python",
   "name": "python",
   "nbconvert_exporter": "python",
   "pygments_lexer": "ipython3",
   "version": "3.12.3"
  }
 },
 "nbformat": 4,
 "nbformat_minor": 2
}
