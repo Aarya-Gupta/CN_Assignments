{
 "cells": [
  {
   "cell_type": "code",
   "execution_count": 1,
   "metadata": {},
   "outputs": [
    {
     "name": "stdout",
     "output_type": "stream",
     "text": [
      "Sent: Heartbeat 1 1726493428.970259\n",
      "Reply from ('127.0.0.1', 12000): Seq: 1, Time Difference: 0.003999 seconds\n",
      "Sent: Heartbeat 2 1726493428.974258\n",
      "Heartbeat 2: Request timed out\n",
      "Sent: Heartbeat 3 1726493429.977018\n",
      "Heartbeat 3: Request timed out\n",
      "Sent: Heartbeat 4 1726493430.9781954\n",
      "Heartbeat 4: Request timed out\n",
      "Server is assumed to have stopped after 3 consecutive timeouts.\n"
     ]
    }
   ],
   "source": [
    "import time\n",
    "import socket\n",
    "\n",
    "# Create a UDP socket\n",
    "clientSocket = socket.socket(socket.AF_INET, socket.SOCK_DGRAM)\n",
    "clientSocket.settimeout(1)  # Set a timeout of 1 second\n",
    "\n",
    "# Server details\n",
    "serverAddress = ('localhost', 12000)\n",
    "\n",
    "# Variables to track consecutive packet losses\n",
    "consecutive_losses = 0\n",
    "num_heartbeats = 100  # Set the number of heartbeats to send\n",
    "max_consecutive_losses = 3  # Assume the server is down if we miss 3 responses\n",
    "\n",
    "for sequence_number in range(1, num_heartbeats + 1):\n",
    "    # Record the time the heartbeat was sent\n",
    "    start_time = time.time()\n",
    "\n",
    "    # Create the heartbeat message (format: \"Heartbeat <sequence_number> <timestamp>\")\n",
    "    message = f\"Heartbeat {sequence_number} {start_time}\"\n",
    "\n",
    "    try:\n",
    "        # Send the heartbeat message to the server\n",
    "        clientSocket.sendto(message.encode(), serverAddress)\n",
    "        print(f\"Sent: {message}\")\n",
    "\n",
    "        # Receive the server's response\n",
    "        response, server = clientSocket.recvfrom(1024)\n",
    "\n",
    "        # If we receive a response, reset the consecutive_losses counter\n",
    "        consecutive_losses = 0\n",
    "\n",
    "        # Print the server's response\n",
    "        print(f\"Reply from {server}: {response.decode()}\")\n",
    "\n",
    "    except socket.timeout:\n",
    "        # Increment consecutive losses if a response is not received within 1 second\n",
    "        consecutive_losses += 1\n",
    "        print(f\"Heartbeat {sequence_number}: Request timed out\")\n",
    "\n",
    "        # If 3 consecutive losses are detected, assume the server has stopped\n",
    "        if consecutive_losses >= max_consecutive_losses:\n",
    "            print(\"Server is assumed to have stopped after 3 consecutive timeouts.\")\n",
    "            break\n",
    "\n",
    "# Close the socket after the loop finishes\n",
    "clientSocket.close()"
   ]
  }
 ],
 "metadata": {
  "kernelspec": {
   "display_name": "Python 3",
   "language": "python",
   "name": "python3"
  },
  "language_info": {
   "codemirror_mode": {
    "name": "ipython",
    "version": 3
   },
   "file_extension": ".py",
   "mimetype": "text/x-python",
   "name": "python",
   "nbconvert_exporter": "python",
   "pygments_lexer": "ipython3",
   "version": "3.12.3"
  }
 },
 "nbformat": 4,
 "nbformat_minor": 2
}
