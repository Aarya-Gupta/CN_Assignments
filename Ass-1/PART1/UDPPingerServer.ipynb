{
 "cells": [
  {
   "cell_type": "code",
   "execution_count": 1,
   "metadata": {},
   "outputs": [
    {
     "name": "stdout",
     "output_type": "stream",
     "text": [
      "UDP Pinger Server is running...\n",
      "Simulating packet loss for message from ('127.0.0.1', 60083).\n",
      "Responding to ('127.0.0.1', 60083) with message: PING 2 1726828298.2936256\n",
      "Simulating packet loss for message from ('127.0.0.1', 60083).\n",
      "Responding to ('127.0.0.1', 60083) with message: PING 4 1726828299.2947013\n",
      "Simulating packet loss for message from ('127.0.0.1', 60083).\n",
      "Responding to ('127.0.0.1', 60083) with message: PING 6 1726828300.3083422\n",
      "Responding to ('127.0.0.1', 60083) with message: PING 7 1726828300.3092856\n",
      "Responding to ('127.0.0.1', 60083) with message: PING 8 1726828300.310151\n",
      "Responding to ('127.0.0.1', 60083) with message: PING 9 1726828300.310151\n",
      "Responding to ('127.0.0.1', 60083) with message: PING 10 1726828300.310151\n"
     ]
    }
   ],
   "source": [
    "import random\n",
    "from socket import *\n",
    "\n",
    "serverSocket = socket(AF_INET, SOCK_DGRAM)\n",
    "\n",
    "# Binding the socket to a 12000 port \n",
    "serverSocket.bind(('', 12000))\n",
    "\n",
    "print(\"UDP Pinger Server is running...\")\n",
    "\n",
    "while True:\n",
    "    rand = random.randint(0, 10)\n",
    "    message, address = serverSocket.recvfrom(1024)\n",
    "    message = message.upper()\n",
    "    # If random number < 4, simulate packet loss\n",
    "    if rand < 4:\n",
    "        # Skips sending the response to the client, simulating packet loss.\n",
    "        print(f\"Simulating packet loss for message from {address}.\")\n",
    "        continue\n",
    "    \n",
    "    # Sending message to client\n",
    "    serverSocket.sendto(message, address)\n",
    "    print(f\"Responding to {address} with message: {message.decode()}\")"
   ]
  }
 ],
 "metadata": {
  "kernelspec": {
   "display_name": "Python 3",
   "language": "python",
   "name": "python3"
  },
  "language_info": {
   "codemirror_mode": {
    "name": "ipython",
    "version": 3
   },
   "file_extension": ".py",
   "mimetype": "text/x-python",
   "name": "python",
   "nbconvert_exporter": "python",
   "pygments_lexer": "ipython3",
   "version": "3.12.3"
  }
 },
 "nbformat": 4,
 "nbformat_minor": 2
}
