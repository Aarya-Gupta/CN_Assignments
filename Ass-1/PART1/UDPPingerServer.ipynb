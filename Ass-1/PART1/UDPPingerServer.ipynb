{
 "cells": [
  {
   "cell_type": "code",
   "execution_count": 1,
   "metadata": {},
   "outputs": [],
   "source": [
    "# Code providede in the assignment. \n",
    "\n",
    "# UDPPingerServer.py\n",
    "# We will need the following module to generate randomized lost packets\n",
    "import random\n",
    "from socket import *\n",
    "# Create a UDP socket\n",
    "# Notice the use of SOCK_DGRAM for UDP packets\n",
    "serverSocket = socket(AF_INET, SOCK_DGRAM)\n",
    "# Assign IP address and port number to socket\n",
    "serverSocket.bind(('', 12000))\n",
    "while True:\n",
    "    # Generate random number in the range of 0 to 10\n",
    "    rand = random.randint(0, 10)\n",
    "    # Receive the client packet along with the address it is coming from message\n",
    "    message, address = serverSocket.recvfrom(1024)\n",
    "    # Capitalize the message from the client\n",
    "    message = message.upper()\n",
    "    # If rand is less is than 4, we consider the packet lost and do not respond\n",
    "    if rand < 4:\n",
    "        continue\n",
    "    # Otherwise, the server responds\n",
    "    serverSocket.sendto(message, address)\n"
   ]
  }
 ],
 "metadata": {
  "kernelspec": {
   "display_name": "Python 3",
   "language": "python",
   "name": "python3"
  },
  "language_info": {
   "codemirror_mode": {
    "name": "ipython",
    "version": 3
   },
   "file_extension": ".py",
   "mimetype": "text/x-python",
   "name": "python",
   "nbconvert_exporter": "python",
   "pygments_lexer": "ipython3",
   "version": "3.12.3"
  }
 },
 "nbformat": 4,
 "nbformat_minor": 2
}
